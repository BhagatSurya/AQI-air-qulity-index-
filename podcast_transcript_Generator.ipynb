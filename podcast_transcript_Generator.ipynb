{
  "nbformat": 4,
  "nbformat_minor": 0,
  "metadata": {
    "colab": {
      "provenance": [],
      "authorship_tag": "ABX9TyOHFucziWzoHxwnrTZZUweE",
      "include_colab_link": true
    },
    "kernelspec": {
      "name": "python3",
      "display_name": "Python 3"
    },
    "language_info": {
      "name": "python"
    },
    "accelerator": "GPU",
    "gpuClass": "standard"
  },
  "cells": [
    {
      "cell_type": "markdown",
      "metadata": {
        "id": "view-in-github",
        "colab_type": "text"
      },
      "source": [
        "<a href=\"https://colab.research.google.com/github/BhagatSurya/AQI-air-qulity-index-/blob/main/podcast_transcript_Generator.ipynb\" target=\"_parent\"><img src=\"https://colab.research.google.com/assets/colab-badge.svg\" alt=\"Open In Colab\"/></a>"
      ]
    },
    {
      "cell_type": "code",
      "source": [
        "!pip uninstall whisper\n",
        "!pip install openai-whisper==20230117\n",
        "!pip install gradio -q "
      ],
      "metadata": {
        "colab": {
          "base_uri": "https://localhost:8080/"
        },
        "id": "xBEqqABGRXFo",
        "outputId": "6a394514-a085-48ff-aa03-2b7b45bd8549"
      },
      "execution_count": 1,
      "outputs": [
        {
          "output_type": "stream",
          "name": "stdout",
          "text": [
            "\u001b[33mWARNING: Skipping whisper as it is not installed.\u001b[0m\u001b[33m\n",
            "\u001b[0mLooking in indexes: https://pypi.org/simple, https://us-python.pkg.dev/colab-wheels/public/simple/\n",
            "Collecting openai-whisper==20230117\n",
            "  Downloading openai-whisper-20230117.tar.gz (1.2 MB)\n",
            "\u001b[2K     \u001b[90m━━━━━━━━━━━━━━━━━━━━━━━━━━━━━━━━━━━━━━━━\u001b[0m \u001b[32m1.2/1.2 MB\u001b[0m \u001b[31m17.7 MB/s\u001b[0m eta \u001b[36m0:00:00\u001b[0m\n",
            "\u001b[?25h  Preparing metadata (setup.py) ... \u001b[?25l\u001b[?25hdone\n",
            "Requirement already satisfied: numpy in /usr/local/lib/python3.8/dist-packages (from openai-whisper==20230117) (1.22.4)\n",
            "Requirement already satisfied: torch in /usr/local/lib/python3.8/dist-packages (from openai-whisper==20230117) (1.13.1+cu116)\n",
            "Requirement already satisfied: tqdm in /usr/local/lib/python3.8/dist-packages (from openai-whisper==20230117) (4.64.1)\n",
            "Requirement already satisfied: more-itertools in /usr/local/lib/python3.8/dist-packages (from openai-whisper==20230117) (9.0.0)\n",
            "Collecting transformers>=4.19.0\n",
            "  Downloading transformers-4.26.1-py3-none-any.whl (6.3 MB)\n",
            "\u001b[2K     \u001b[90m━━━━━━━━━━━━━━━━━━━━━━━━━━━━━━━━━━━━━━━━\u001b[0m \u001b[32m6.3/6.3 MB\u001b[0m \u001b[31m75.4 MB/s\u001b[0m eta \u001b[36m0:00:00\u001b[0m\n",
            "\u001b[?25hCollecting ffmpeg-python==0.2.0\n",
            "  Downloading ffmpeg_python-0.2.0-py3-none-any.whl (25 kB)\n",
            "Requirement already satisfied: future in /usr/local/lib/python3.8/dist-packages (from ffmpeg-python==0.2.0->openai-whisper==20230117) (0.16.0)\n",
            "Collecting huggingface-hub<1.0,>=0.11.0\n",
            "  Downloading huggingface_hub-0.12.1-py3-none-any.whl (190 kB)\n",
            "\u001b[2K     \u001b[90m━━━━━━━━━━━━━━━━━━━━━━━━━━━━━━━━━━━━━━\u001b[0m \u001b[32m190.3/190.3 KB\u001b[0m \u001b[31m12.3 MB/s\u001b[0m eta \u001b[36m0:00:00\u001b[0m\n",
            "\u001b[?25hRequirement already satisfied: filelock in /usr/local/lib/python3.8/dist-packages (from transformers>=4.19.0->openai-whisper==20230117) (3.9.0)\n",
            "Requirement already satisfied: regex!=2019.12.17 in /usr/local/lib/python3.8/dist-packages (from transformers>=4.19.0->openai-whisper==20230117) (2022.6.2)\n",
            "Requirement already satisfied: pyyaml>=5.1 in /usr/local/lib/python3.8/dist-packages (from transformers>=4.19.0->openai-whisper==20230117) (6.0)\n",
            "Collecting tokenizers!=0.11.3,<0.14,>=0.11.1\n",
            "  Downloading tokenizers-0.13.2-cp38-cp38-manylinux_2_17_x86_64.manylinux2014_x86_64.whl (7.6 MB)\n",
            "\u001b[2K     \u001b[90m━━━━━━━━━━━━━━━━━━━━━━━━━━━━━━━━━━━━━━━━\u001b[0m \u001b[32m7.6/7.6 MB\u001b[0m \u001b[31m100.4 MB/s\u001b[0m eta \u001b[36m0:00:00\u001b[0m\n",
            "\u001b[?25hRequirement already satisfied: requests in /usr/local/lib/python3.8/dist-packages (from transformers>=4.19.0->openai-whisper==20230117) (2.25.1)\n",
            "Requirement already satisfied: packaging>=20.0 in /usr/local/lib/python3.8/dist-packages (from transformers>=4.19.0->openai-whisper==20230117) (23.0)\n",
            "Requirement already satisfied: typing-extensions in /usr/local/lib/python3.8/dist-packages (from torch->openai-whisper==20230117) (4.5.0)\n",
            "Requirement already satisfied: certifi>=2017.4.17 in /usr/local/lib/python3.8/dist-packages (from requests->transformers>=4.19.0->openai-whisper==20230117) (2022.12.7)\n",
            "Requirement already satisfied: urllib3<1.27,>=1.21.1 in /usr/local/lib/python3.8/dist-packages (from requests->transformers>=4.19.0->openai-whisper==20230117) (1.24.3)\n",
            "Requirement already satisfied: chardet<5,>=3.0.2 in /usr/local/lib/python3.8/dist-packages (from requests->transformers>=4.19.0->openai-whisper==20230117) (4.0.0)\n",
            "Requirement already satisfied: idna<3,>=2.5 in /usr/local/lib/python3.8/dist-packages (from requests->transformers>=4.19.0->openai-whisper==20230117) (2.10)\n",
            "Building wheels for collected packages: openai-whisper\n",
            "  Building wheel for openai-whisper (setup.py) ... \u001b[?25l\u001b[?25hdone\n",
            "  Created wheel for openai-whisper: filename=openai_whisper-20230117-py3-none-any.whl size=1178626 sha256=0203f24ae94b7e23f6b417cb5ca71a22ec0dbe82624881e180a10a39263e4501\n",
            "  Stored in directory: /root/.cache/pip/wheels/75/4c/25/1a3e341bbb06734cb70dfc124afa90507462ef9f476c6b8174\n",
            "Successfully built openai-whisper\n",
            "Installing collected packages: tokenizers, ffmpeg-python, huggingface-hub, transformers, openai-whisper\n",
            "Successfully installed ffmpeg-python-0.2.0 huggingface-hub-0.12.1 openai-whisper-20230117 tokenizers-0.13.2 transformers-4.26.1\n",
            "\u001b[2K     \u001b[90m━━━━━━━━━━━━━━━━━━━━━━━━━━━━━━━━━━━━━━━━\u001b[0m \u001b[32m14.2/14.2 MB\u001b[0m \u001b[31m93.0 MB/s\u001b[0m eta \u001b[36m0:00:00\u001b[0m\n",
            "\u001b[2K     \u001b[90m━━━━━━━━━━━━━━━━━━━━━━━━━━━━━━━━━━━━━━━━\u001b[0m \u001b[32m56.2/56.2 KB\u001b[0m \u001b[31m7.3 MB/s\u001b[0m eta \u001b[36m0:00:00\u001b[0m\n",
            "\u001b[?25h  Preparing metadata (setup.py) ... \u001b[?25l\u001b[?25hdone\n",
            "\u001b[2K     \u001b[90m━━━━━━━━━━━━━━━━━━━━━━━━━━━━━━━━━━━━━━\u001b[0m \u001b[32m140.7/140.7 KB\u001b[0m \u001b[31m14.7 MB/s\u001b[0m eta \u001b[36m0:00:00\u001b[0m\n",
            "\u001b[2K     \u001b[90m━━━━━━━━━━━━━━━━━━━━━━━━━━━━━━━━━━━━━━\u001b[0m \u001b[32m107.0/107.0 KB\u001b[0m \u001b[31m12.9 MB/s\u001b[0m eta \u001b[36m0:00:00\u001b[0m\n",
            "\u001b[?25h  Preparing metadata (setup.py) ... \u001b[?25l\u001b[?25hdone\n",
            "\u001b[2K     \u001b[90m━━━━━━━━━━━━━━━━━━━━━━━━━━━━━━━━━━━━━━━━\u001b[0m \u001b[32m50.5/50.5 KB\u001b[0m \u001b[31m6.9 MB/s\u001b[0m eta \u001b[36m0:00:00\u001b[0m\n",
            "\u001b[2K     \u001b[90m━━━━━━━━━━━━━━━━━━━━━━━━━━━━━━━━━━━━━━━━\u001b[0m \u001b[32m56.9/56.9 KB\u001b[0m \u001b[31m7.7 MB/s\u001b[0m eta \u001b[36m0:00:00\u001b[0m\n",
            "\u001b[2K     \u001b[90m━━━━━━━━━━━━━━━━━━━━━━━━━━━━━━━━━━━━━━━━\u001b[0m \u001b[32m84.5/84.5 KB\u001b[0m \u001b[31m10.5 MB/s\u001b[0m eta \u001b[36m0:00:00\u001b[0m\n",
            "\u001b[2K     \u001b[90m━━━━━━━━━━━━━━━━━━━━━━━━━━━━━━━━━━━━━━━━\u001b[0m \u001b[32m71.5/71.5 KB\u001b[0m \u001b[31m9.0 MB/s\u001b[0m eta \u001b[36m0:00:00\u001b[0m\n",
            "\u001b[2K     \u001b[90m━━━━━━━━━━━━━━━━━━━━━━━━━━━━━━━━━━━━━━━━\u001b[0m \u001b[32m2.1/2.1 MB\u001b[0m \u001b[31m84.4 MB/s\u001b[0m eta \u001b[36m0:00:00\u001b[0m\n",
            "\u001b[2K     \u001b[90m━━━━━━━━━━━━━━━━━━━━━━━━━━━━━━━━━━━━━━━━\u001b[0m \u001b[32m66.4/66.4 KB\u001b[0m \u001b[31m8.1 MB/s\u001b[0m eta \u001b[36m0:00:00\u001b[0m\n",
            "\u001b[2K     \u001b[90m━━━━━━━━━━━━━━━━━━━━━━━━━━━━━━━━━━━━━━━━\u001b[0m \u001b[32m69.6/69.6 KB\u001b[0m \u001b[31m9.0 MB/s\u001b[0m eta \u001b[36m0:00:00\u001b[0m\n",
            "\u001b[2K     \u001b[90m━━━━━━━━━━━━━━━━━━━━━━━━━━━━━━━━━━━━━━━━\u001b[0m \u001b[32m58.3/58.3 KB\u001b[0m \u001b[31m7.9 MB/s\u001b[0m eta \u001b[36m0:00:00\u001b[0m\n",
            "\u001b[2K     \u001b[90m━━━━━━━━━━━━━━━━━━━━━━━━━━━━━━━━━━━━━━━━\u001b[0m \u001b[32m80.6/80.6 KB\u001b[0m \u001b[31m10.4 MB/s\u001b[0m eta \u001b[36m0:00:00\u001b[0m\n",
            "\u001b[?25h  Building wheel for ffmpy (setup.py) ... \u001b[?25l\u001b[?25hdone\n",
            "  Building wheel for python-multipart (setup.py) ... \u001b[?25l\u001b[?25hdone\n"
          ]
        }
      ]
    },
    {
      "cell_type": "code",
      "execution_count": 12,
      "metadata": {
        "colab": {
          "base_uri": "https://localhost:8080/",
          "height": 695
        },
        "id": "G-jmnCWPRTMm",
        "outputId": "b517445c-d620-4082-916e-53b6a4df676f"
      },
      "outputs": [
        {
          "output_type": "stream",
          "name": "stderr",
          "text": [
            "/usr/local/lib/python3.8/dist-packages/gradio/layouts.py:75: UserWarning: mobile_collapse is no longer supported.\n",
            "  warnings.warn(\"mobile_collapse is no longer supported.\")\n"
          ]
        },
        {
          "output_type": "stream",
          "name": "stdout",
          "text": [
            "Setting queue=True in a Colab notebook requires sharing enabled. Setting `share=True` (you can turn this off by setting `share=False` in `launch()` explicitly).\n",
            "\n",
            "Colab notebook detected. This cell will run indefinitely so that you can see errors and logs. To turn off, set debug=False in launch().\n",
            "Running on public URL: https://8052fe389b5ad6d5d5.gradio.live\n",
            "\n",
            "This share link expires in 72 hours. For free permanent hosting and GPU upgrades (NEW!), check out Spaces: https://huggingface.co/spaces\n"
          ]
        },
        {
          "output_type": "display_data",
          "data": {
            "text/plain": [
              "<IPython.core.display.HTML object>"
            ],
            "text/html": [
              "<div><iframe src=\"https://8052fe389b5ad6d5d5.gradio.live\" width=\"100%\" height=\"500\" allow=\"autoplay; camera; microphone; clipboard-read; clipboard-write;\" frameborder=\"0\" allowfullscreen></iframe></div>"
            ]
          },
          "metadata": {}
        },
        {
          "output_type": "stream",
          "name": "stdout",
          "text": [
            "Keyboard interruption in main thread... closing server.\n",
            "Killing tunnel 127.0.0.1:7860 <> https://8052fe389b5ad6d5d5.gradio.live\n"
          ]
        },
        {
          "output_type": "execute_result",
          "data": {
            "text/plain": []
          },
          "metadata": {},
          "execution_count": 12
        }
      ],
      "source": [
        "import whisper\n",
        "from  whisper.utils import write_vtt\n",
        "import requests\n",
        "import os\n",
        "import sys \n",
        "import gradio as gr \n",
        "import re\n",
        "model = whisper.load_model(\"medium\")\n",
        "\n",
        "def podcastscript(link):\n",
        "   content = requests.get(link)\n",
        "   prodcast_url = re.findall(\"(?P<url>\\;https?://[^\\s]+)\",content.text)[0].split(';')[1]\n",
        "   print(prodcast_url)\n",
        "\n",
        "   donwload = requests.get(prodcast_url)\n",
        "\n",
        "\n",
        "   with open(\"podcast.mp3\",\"wb\") as f:\n",
        "     f.write(donwload.content)\n",
        "   \n",
        "   result = model.transcribe(\"podcast.mp3\")\n",
        "\n",
        "   with open(\"sub.vtt\",\"w\") as txt:\n",
        "     write_vtt(result[\"segments\"],file=txt)\n",
        "  \n",
        "   return (result[\"text\"],\"sub.vtt\")\n",
        "\n",
        "title = \"podcast transcript\"\n",
        "description = \"Get your transcript for free\"\n",
        "block = gr.Blocks()\n",
        "\n",
        "with block:\n",
        "    gr.HTML(\n",
        "          \"\"\"   \n",
        "             <center> \n",
        "                <h1>podcast transcript Generator</h1>\n",
        "                <h3>Bhagat Surya</h3>\n",
        "                <img src = 'data:image/jpeg;base64,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' width = '20%'></img>\n",
        "                </center> \n",
        "\n",
        "            \"\"\"\n",
        "           )\n",
        "    with gr.Group():\n",
        "      with gr.Box():\n",
        "\n",
        "         link = gr.Textbox(label=\"Your podcast Link\")\n",
        "\n",
        "         with gr.Row().style(mobile_collapse=False,equal_height=True):\n",
        "           button = gr.Button(\"Generate podcast transcript\")\n",
        "         \n",
        "         text = gr.Textbox(\n",
        "             label=\"podcast transcript\",\n",
        "             placeholder = \"transcript\",\n",
        "             lines=5\n",
        "         )\n",
        "         transcription = gr.File()\n",
        "         button.click(podcastscript,inputs=[link],outputs=[text,transcription])\n",
        "block.launch(debug=True,enable_queue=True)"
      ]
    }
  ]
}